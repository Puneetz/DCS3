{
 "cells": [
  {
   "cell_type": "code",
   "execution_count": 13,
   "metadata": {},
   "outputs": [
    {
     "name": "stdout",
     "output_type": "stream",
     "text": [
      "How old are you? 16\n",
      "Are you with your parents? no\n",
      "I'm sorry, you cannot watch the movie!\n",
      "Are you a boy or girl?boy\n",
      "Do you like pizza?no\n",
      "I'm sorry, you cannot come in\n"
     ]
    }
   ],
   "source": [
    "def movies():\n",
    "    age = int(input(\"How old are you? \"))\n",
    "    adult = input(\"Are you with your parents? \")\n",
    "    \n",
    "    if age > 18 or adult == \"yes\":\n",
    "        print(\"Enjoy the movie\")\n",
    "    else:\n",
    "        print(\"I'm sorry, you cannot watch the movie!\")\n",
    "        \n",
    "def party():\n",
    "    gen = input(\"Are you a boy or girl?\")\n",
    "    piz = input(\"Do you like pizza?\")\n",
    "    \n",
    "    if gen == \"boy\" and piz == \"yes\":\n",
    "        print(\"Welcome to the party\")\n",
    "    elif gen == \"girl\" or piz == \"no\":\n",
    "        print(\"I'm sorry, you cannot come in\")\n",
    "   \n",
    "        \n",
    "\n",
    "    \n",
    "movies ()\n",
    "party ()\n",
    "\n",
    "\n",
    "    "
   ]
  }
 ],
 "metadata": {
  "kernelspec": {
   "display_name": "Python 3",
   "language": "python",
   "name": "python3"
  },
  "language_info": {
   "codemirror_mode": {
    "name": "ipython",
    "version": 3
   },
   "file_extension": ".py",
   "mimetype": "text/x-python",
   "name": "python",
   "nbconvert_exporter": "python",
   "pygments_lexer": "ipython3",
   "version": "3.5.2"
  }
 },
 "nbformat": 4,
 "nbformat_minor": 2
}
